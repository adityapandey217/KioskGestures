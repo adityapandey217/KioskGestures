{
 "cells": [
  {
   "cell_type": "code",
   "execution_count": 35,
   "id": "d2899fb6",
   "metadata": {},
   "outputs": [],
   "source": [
    "import pandas as pd\n",
    "import numpy as np\n",
    "from sklearn.model_selection import train_test_split\n",
    "from sklearn.preprocessing import StandardScaler\n",
    "from tensorflow.keras.utils import to_categorical\n",
    "import tensorflow as tf\n",
    "import joblib"
   ]
  },
  {
   "cell_type": "code",
   "execution_count": 36,
   "id": "6637f446",
   "metadata": {},
   "outputs": [
    {
     "name": "stdout",
     "output_type": "stream",
     "text": [
      "2.16.2\n",
      "GPU available: [PhysicalDevice(name='/physical_device:GPU:0', device_type='GPU')]\n"
     ]
    }
   ],
   "source": [
    "print(tf.__version__)\n",
    "print(\"GPU available:\", tf.config.list_physical_devices('GPU'))"
   ]
  },
  {
   "cell_type": "code",
   "execution_count": 37,
   "id": "0ea07e38",
   "metadata": {},
   "outputs": [
    {
     "data": {
      "text/html": [
       "<div>\n",
       "<style scoped>\n",
       "    .dataframe tbody tr th:only-of-type {\n",
       "        vertical-align: middle;\n",
       "    }\n",
       "\n",
       "    .dataframe tbody tr th {\n",
       "        vertical-align: top;\n",
       "    }\n",
       "\n",
       "    .dataframe thead th {\n",
       "        text-align: right;\n",
       "    }\n",
       "</style>\n",
       "<table border=\"1\" class=\"dataframe\">\n",
       "  <thead>\n",
       "    <tr style=\"text-align: right;\">\n",
       "      <th></th>\n",
       "      <th>x0</th>\n",
       "      <th>y0</th>\n",
       "      <th>z0</th>\n",
       "      <th>x1</th>\n",
       "      <th>y1</th>\n",
       "      <th>z1</th>\n",
       "      <th>x2</th>\n",
       "      <th>y2</th>\n",
       "      <th>z2</th>\n",
       "      <th>x3</th>\n",
       "      <th>...</th>\n",
       "      <th>y18</th>\n",
       "      <th>z18</th>\n",
       "      <th>x19</th>\n",
       "      <th>y19</th>\n",
       "      <th>z19</th>\n",
       "      <th>x20</th>\n",
       "      <th>y20</th>\n",
       "      <th>z20</th>\n",
       "      <th>handedness</th>\n",
       "      <th>label</th>\n",
       "    </tr>\n",
       "  </thead>\n",
       "  <tbody>\n",
       "    <tr>\n",
       "      <th>0</th>\n",
       "      <td>0.066402</td>\n",
       "      <td>0.714774</td>\n",
       "      <td>-5.149332e-07</td>\n",
       "      <td>0.110267</td>\n",
       "      <td>0.567437</td>\n",
       "      <td>-0.007399</td>\n",
       "      <td>0.177215</td>\n",
       "      <td>0.406313</td>\n",
       "      <td>-0.023405</td>\n",
       "      <td>0.211647</td>\n",
       "      <td>...</td>\n",
       "      <td>0.703239</td>\n",
       "      <td>-0.120772</td>\n",
       "      <td>0.228314</td>\n",
       "      <td>0.706775</td>\n",
       "      <td>-0.112544</td>\n",
       "      <td>0.189190</td>\n",
       "      <td>0.687547</td>\n",
       "      <td>-0.109797</td>\n",
       "      <td>0</td>\n",
       "      <td>1</td>\n",
       "    </tr>\n",
       "    <tr>\n",
       "      <th>1</th>\n",
       "      <td>0.067964</td>\n",
       "      <td>0.717013</td>\n",
       "      <td>-5.303769e-07</td>\n",
       "      <td>0.108681</td>\n",
       "      <td>0.570630</td>\n",
       "      <td>-0.008028</td>\n",
       "      <td>0.177440</td>\n",
       "      <td>0.409624</td>\n",
       "      <td>-0.023619</td>\n",
       "      <td>0.214079</td>\n",
       "      <td>...</td>\n",
       "      <td>0.707820</td>\n",
       "      <td>-0.117026</td>\n",
       "      <td>0.232774</td>\n",
       "      <td>0.712451</td>\n",
       "      <td>-0.107594</td>\n",
       "      <td>0.194152</td>\n",
       "      <td>0.693200</td>\n",
       "      <td>-0.103903</td>\n",
       "      <td>0</td>\n",
       "      <td>1</td>\n",
       "    </tr>\n",
       "    <tr>\n",
       "      <th>2</th>\n",
       "      <td>0.073413</td>\n",
       "      <td>0.720001</td>\n",
       "      <td>-5.408315e-07</td>\n",
       "      <td>0.113233</td>\n",
       "      <td>0.572339</td>\n",
       "      <td>-0.007361</td>\n",
       "      <td>0.182355</td>\n",
       "      <td>0.412784</td>\n",
       "      <td>-0.022473</td>\n",
       "      <td>0.218962</td>\n",
       "      <td>...</td>\n",
       "      <td>0.716653</td>\n",
       "      <td>-0.113614</td>\n",
       "      <td>0.238621</td>\n",
       "      <td>0.721244</td>\n",
       "      <td>-0.103292</td>\n",
       "      <td>0.199771</td>\n",
       "      <td>0.702700</td>\n",
       "      <td>-0.099165</td>\n",
       "      <td>0</td>\n",
       "      <td>1</td>\n",
       "    </tr>\n",
       "    <tr>\n",
       "      <th>3</th>\n",
       "      <td>0.079909</td>\n",
       "      <td>0.720517</td>\n",
       "      <td>-4.687542e-07</td>\n",
       "      <td>0.113828</td>\n",
       "      <td>0.574180</td>\n",
       "      <td>-0.010201</td>\n",
       "      <td>0.184310</td>\n",
       "      <td>0.419570</td>\n",
       "      <td>-0.026842</td>\n",
       "      <td>0.225137</td>\n",
       "      <td>...</td>\n",
       "      <td>0.723539</td>\n",
       "      <td>-0.112793</td>\n",
       "      <td>0.246905</td>\n",
       "      <td>0.729405</td>\n",
       "      <td>-0.101743</td>\n",
       "      <td>0.209507</td>\n",
       "      <td>0.711692</td>\n",
       "      <td>-0.096743</td>\n",
       "      <td>0</td>\n",
       "      <td>1</td>\n",
       "    </tr>\n",
       "    <tr>\n",
       "      <th>4</th>\n",
       "      <td>0.085028</td>\n",
       "      <td>0.720623</td>\n",
       "      <td>-4.441287e-07</td>\n",
       "      <td>0.117068</td>\n",
       "      <td>0.576235</td>\n",
       "      <td>-0.010575</td>\n",
       "      <td>0.186558</td>\n",
       "      <td>0.418234</td>\n",
       "      <td>-0.025969</td>\n",
       "      <td>0.225809</td>\n",
       "      <td>...</td>\n",
       "      <td>0.723339</td>\n",
       "      <td>-0.105736</td>\n",
       "      <td>0.253043</td>\n",
       "      <td>0.730022</td>\n",
       "      <td>-0.094346</td>\n",
       "      <td>0.217032</td>\n",
       "      <td>0.713488</td>\n",
       "      <td>-0.088924</td>\n",
       "      <td>0</td>\n",
       "      <td>1</td>\n",
       "    </tr>\n",
       "  </tbody>\n",
       "</table>\n",
       "<p>5 rows × 65 columns</p>\n",
       "</div>"
      ],
      "text/plain": [
       "         x0        y0            z0        x1        y1        z1        x2  \\\n",
       "0  0.066402  0.714774 -5.149332e-07  0.110267  0.567437 -0.007399  0.177215   \n",
       "1  0.067964  0.717013 -5.303769e-07  0.108681  0.570630 -0.008028  0.177440   \n",
       "2  0.073413  0.720001 -5.408315e-07  0.113233  0.572339 -0.007361  0.182355   \n",
       "3  0.079909  0.720517 -4.687542e-07  0.113828  0.574180 -0.010201  0.184310   \n",
       "4  0.085028  0.720623 -4.441287e-07  0.117068  0.576235 -0.010575  0.186558   \n",
       "\n",
       "         y2        z2        x3  ...       y18       z18       x19       y19  \\\n",
       "0  0.406313 -0.023405  0.211647  ...  0.703239 -0.120772  0.228314  0.706775   \n",
       "1  0.409624 -0.023619  0.214079  ...  0.707820 -0.117026  0.232774  0.712451   \n",
       "2  0.412784 -0.022473  0.218962  ...  0.716653 -0.113614  0.238621  0.721244   \n",
       "3  0.419570 -0.026842  0.225137  ...  0.723539 -0.112793  0.246905  0.729405   \n",
       "4  0.418234 -0.025969  0.225809  ...  0.723339 -0.105736  0.253043  0.730022   \n",
       "\n",
       "        z19       x20       y20       z20  handedness  label  \n",
       "0 -0.112544  0.189190  0.687547 -0.109797           0      1  \n",
       "1 -0.107594  0.194152  0.693200 -0.103903           0      1  \n",
       "2 -0.103292  0.199771  0.702700 -0.099165           0      1  \n",
       "3 -0.101743  0.209507  0.711692 -0.096743           0      1  \n",
       "4 -0.094346  0.217032  0.713488 -0.088924           0      1  \n",
       "\n",
       "[5 rows x 65 columns]"
      ]
     },
     "execution_count": 37,
     "metadata": {},
     "output_type": "execute_result"
    }
   ],
   "source": [
    "df = pd.read_csv('data.csv')\n",
    "df.head()"
   ]
  },
  {
   "cell_type": "code",
   "execution_count": 38,
   "id": "935b81fc",
   "metadata": {},
   "outputs": [
    {
     "name": "stdout",
     "output_type": "stream",
     "text": [
      "Thumbs Down (label=0): 4614 samples\n",
      "Thumbs Up (label=1): 4561 samples\n",
      "Other (label=2): 3667 samples\n"
     ]
    }
   ],
   "source": [
    "# Count occurrences of each label\n",
    "label_counts = df['label'].value_counts().sort_index()\n",
    "\n",
    "# Map label numbers to names (update as per your labels)\n",
    "label_names = {0: 'Thumbs Down', 1: 'Thumbs Up', 2: 'Other'}\n",
    "\n",
    "# Print counts with labels\n",
    "for label, count in label_counts.items():\n",
    "    print(f\"{label_names.get(label, 'Unknown')} (label={label}): {count} samples\")"
   ]
  },
  {
   "cell_type": "code",
   "execution_count": 39,
   "id": "9522ff2e",
   "metadata": {},
   "outputs": [],
   "source": [
    "X = df.drop('label', axis=1).values  # all columns except label\n",
    "y = df['label'].values"
   ]
  },
  {
   "cell_type": "code",
   "execution_count": 41,
   "id": "b82430ff",
   "metadata": {},
   "outputs": [],
   "source": [
    "# Scale features for better training\n",
    "scaler = StandardScaler()\n",
    "X_scaled = scaler.fit_transform(X)"
   ]
  },
  {
   "cell_type": "code",
   "execution_count": 42,
   "id": "9e5e2181",
   "metadata": {},
   "outputs": [],
   "source": [
    "y_encoded = to_categorical(y, num_classes=3)"
   ]
  },
  {
   "cell_type": "code",
   "execution_count": 43,
   "id": "c70c6ee5",
   "metadata": {},
   "outputs": [],
   "source": [
    "X_train, X_test, y_train, y_test = train_test_split(\n",
    "    X_scaled, y_encoded, test_size=0.2, random_state=42, stratify=y)"
   ]
  },
  {
   "cell_type": "code",
   "execution_count": 44,
   "id": "a9f862cc",
   "metadata": {},
   "outputs": [
    {
     "name": "stderr",
     "output_type": "stream",
     "text": [
      "/opt/anaconda3/envs/tf_arm/lib/python3.9/site-packages/keras/src/layers/core/dense.py:93: UserWarning: Do not pass an `input_shape`/`input_dim` argument to a layer. When using Sequential models, prefer using an `Input(shape)` object as the first layer in the model instead.\n",
      "  super().__init__(activity_regularizer=activity_regularizer, **kwargs)\n"
     ]
    }
   ],
   "source": [
    "# Build multi-class MLP model\n",
    "model = tf.keras.Sequential([\n",
    "    tf.keras.layers.Dense(128, activation='relu', input_shape=(X_train.shape[1],)),\n",
    "    tf.keras.layers.Dropout(0.3),\n",
    "    tf.keras.layers.Dense(64, activation='relu'),\n",
    "    tf.keras.layers.Dropout(0.3),\n",
    "    tf.keras.layers.Dense(3, activation='softmax')  # 3 output classes\n",
    "])"
   ]
  },
  {
   "cell_type": "code",
   "execution_count": 45,
   "id": "94486a47",
   "metadata": {},
   "outputs": [],
   "source": [
    "model.compile(optimizer='adam',\n",
    "              loss='categorical_crossentropy',\n",
    "              metrics=['accuracy'])"
   ]
  },
  {
   "cell_type": "code",
   "execution_count": 32,
   "id": "9aafbbaf",
   "metadata": {},
   "outputs": [
    {
     "data": {
      "text/html": [
       "<pre style=\"white-space:pre;overflow-x:auto;line-height:normal;font-family:Menlo,'DejaVu Sans Mono',consolas,'Courier New',monospace\"><span style=\"font-weight: bold\">Model: \"sequential_1\"</span>\n",
       "</pre>\n"
      ],
      "text/plain": [
       "\u001b[1mModel: \"sequential_1\"\u001b[0m\n"
      ]
     },
     "metadata": {},
     "output_type": "display_data"
    },
    {
     "data": {
      "text/html": [
       "<pre style=\"white-space:pre;overflow-x:auto;line-height:normal;font-family:Menlo,'DejaVu Sans Mono',consolas,'Courier New',monospace\">┏━━━━━━━━━━━━━━━━━━━━━━━━━━━━━━━━━┳━━━━━━━━━━━━━━━━━━━━━━━━┳━━━━━━━━━━━━━━━┓\n",
       "┃<span style=\"font-weight: bold\"> Layer (type)                    </span>┃<span style=\"font-weight: bold\"> Output Shape           </span>┃<span style=\"font-weight: bold\">       Param # </span>┃\n",
       "┡━━━━━━━━━━━━━━━━━━━━━━━━━━━━━━━━━╇━━━━━━━━━━━━━━━━━━━━━━━━╇━━━━━━━━━━━━━━━┩\n",
       "│ dense_3 (<span style=\"color: #0087ff; text-decoration-color: #0087ff\">Dense</span>)                 │ (<span style=\"color: #00d7ff; text-decoration-color: #00d7ff\">None</span>, <span style=\"color: #00af00; text-decoration-color: #00af00\">128</span>)            │         <span style=\"color: #00af00; text-decoration-color: #00af00\">8,320</span> │\n",
       "├─────────────────────────────────┼────────────────────────┼───────────────┤\n",
       "│ dropout_2 (<span style=\"color: #0087ff; text-decoration-color: #0087ff\">Dropout</span>)             │ (<span style=\"color: #00d7ff; text-decoration-color: #00d7ff\">None</span>, <span style=\"color: #00af00; text-decoration-color: #00af00\">128</span>)            │             <span style=\"color: #00af00; text-decoration-color: #00af00\">0</span> │\n",
       "├─────────────────────────────────┼────────────────────────┼───────────────┤\n",
       "│ dense_4 (<span style=\"color: #0087ff; text-decoration-color: #0087ff\">Dense</span>)                 │ (<span style=\"color: #00d7ff; text-decoration-color: #00d7ff\">None</span>, <span style=\"color: #00af00; text-decoration-color: #00af00\">64</span>)             │         <span style=\"color: #00af00; text-decoration-color: #00af00\">8,256</span> │\n",
       "├─────────────────────────────────┼────────────────────────┼───────────────┤\n",
       "│ dropout_3 (<span style=\"color: #0087ff; text-decoration-color: #0087ff\">Dropout</span>)             │ (<span style=\"color: #00d7ff; text-decoration-color: #00d7ff\">None</span>, <span style=\"color: #00af00; text-decoration-color: #00af00\">64</span>)             │             <span style=\"color: #00af00; text-decoration-color: #00af00\">0</span> │\n",
       "├─────────────────────────────────┼────────────────────────┼───────────────┤\n",
       "│ dense_5 (<span style=\"color: #0087ff; text-decoration-color: #0087ff\">Dense</span>)                 │ (<span style=\"color: #00d7ff; text-decoration-color: #00d7ff\">None</span>, <span style=\"color: #00af00; text-decoration-color: #00af00\">3</span>)              │           <span style=\"color: #00af00; text-decoration-color: #00af00\">195</span> │\n",
       "└─────────────────────────────────┴────────────────────────┴───────────────┘\n",
       "</pre>\n"
      ],
      "text/plain": [
       "┏━━━━━━━━━━━━━━━━━━━━━━━━━━━━━━━━━┳━━━━━━━━━━━━━━━━━━━━━━━━┳━━━━━━━━━━━━━━━┓\n",
       "┃\u001b[1m \u001b[0m\u001b[1mLayer (type)                   \u001b[0m\u001b[1m \u001b[0m┃\u001b[1m \u001b[0m\u001b[1mOutput Shape          \u001b[0m\u001b[1m \u001b[0m┃\u001b[1m \u001b[0m\u001b[1m      Param #\u001b[0m\u001b[1m \u001b[0m┃\n",
       "┡━━━━━━━━━━━━━━━━━━━━━━━━━━━━━━━━━╇━━━━━━━━━━━━━━━━━━━━━━━━╇━━━━━━━━━━━━━━━┩\n",
       "│ dense_3 (\u001b[38;5;33mDense\u001b[0m)                 │ (\u001b[38;5;45mNone\u001b[0m, \u001b[38;5;34m128\u001b[0m)            │         \u001b[38;5;34m8,320\u001b[0m │\n",
       "├─────────────────────────────────┼────────────────────────┼───────────────┤\n",
       "│ dropout_2 (\u001b[38;5;33mDropout\u001b[0m)             │ (\u001b[38;5;45mNone\u001b[0m, \u001b[38;5;34m128\u001b[0m)            │             \u001b[38;5;34m0\u001b[0m │\n",
       "├─────────────────────────────────┼────────────────────────┼───────────────┤\n",
       "│ dense_4 (\u001b[38;5;33mDense\u001b[0m)                 │ (\u001b[38;5;45mNone\u001b[0m, \u001b[38;5;34m64\u001b[0m)             │         \u001b[38;5;34m8,256\u001b[0m │\n",
       "├─────────────────────────────────┼────────────────────────┼───────────────┤\n",
       "│ dropout_3 (\u001b[38;5;33mDropout\u001b[0m)             │ (\u001b[38;5;45mNone\u001b[0m, \u001b[38;5;34m64\u001b[0m)             │             \u001b[38;5;34m0\u001b[0m │\n",
       "├─────────────────────────────────┼────────────────────────┼───────────────┤\n",
       "│ dense_5 (\u001b[38;5;33mDense\u001b[0m)                 │ (\u001b[38;5;45mNone\u001b[0m, \u001b[38;5;34m3\u001b[0m)              │           \u001b[38;5;34m195\u001b[0m │\n",
       "└─────────────────────────────────┴────────────────────────┴───────────────┘\n"
      ]
     },
     "metadata": {},
     "output_type": "display_data"
    },
    {
     "data": {
      "text/html": [
       "<pre style=\"white-space:pre;overflow-x:auto;line-height:normal;font-family:Menlo,'DejaVu Sans Mono',consolas,'Courier New',monospace\"><span style=\"font-weight: bold\"> Total params: </span><span style=\"color: #00af00; text-decoration-color: #00af00\">16,771</span> (65.51 KB)\n",
       "</pre>\n"
      ],
      "text/plain": [
       "\u001b[1m Total params: \u001b[0m\u001b[38;5;34m16,771\u001b[0m (65.51 KB)\n"
      ]
     },
     "metadata": {},
     "output_type": "display_data"
    },
    {
     "data": {
      "text/html": [
       "<pre style=\"white-space:pre;overflow-x:auto;line-height:normal;font-family:Menlo,'DejaVu Sans Mono',consolas,'Courier New',monospace\"><span style=\"font-weight: bold\"> Trainable params: </span><span style=\"color: #00af00; text-decoration-color: #00af00\">16,771</span> (65.51 KB)\n",
       "</pre>\n"
      ],
      "text/plain": [
       "\u001b[1m Trainable params: \u001b[0m\u001b[38;5;34m16,771\u001b[0m (65.51 KB)\n"
      ]
     },
     "metadata": {},
     "output_type": "display_data"
    },
    {
     "data": {
      "text/html": [
       "<pre style=\"white-space:pre;overflow-x:auto;line-height:normal;font-family:Menlo,'DejaVu Sans Mono',consolas,'Courier New',monospace\"><span style=\"font-weight: bold\"> Non-trainable params: </span><span style=\"color: #00af00; text-decoration-color: #00af00\">0</span> (0.00 B)\n",
       "</pre>\n"
      ],
      "text/plain": [
       "\u001b[1m Non-trainable params: \u001b[0m\u001b[38;5;34m0\u001b[0m (0.00 B)\n"
      ]
     },
     "metadata": {},
     "output_type": "display_data"
    }
   ],
   "source": [
    "model.summary()\n"
   ]
  },
  {
   "cell_type": "code",
   "execution_count": 46,
   "id": "7ecb0f95",
   "metadata": {},
   "outputs": [
    {
     "name": "stdout",
     "output_type": "stream",
     "text": [
      "Epoch 1/30\n",
      "\u001b[1m322/322\u001b[0m \u001b[32m━━━━━━━━━━━━━━━━━━━━\u001b[0m\u001b[37m\u001b[0m \u001b[1m9s\u001b[0m 22ms/step - accuracy: 0.8379 - loss: 0.4758 - val_accuracy: 0.9471 - val_loss: 0.1624\n",
      "Epoch 2/30\n",
      "\u001b[1m322/322\u001b[0m \u001b[32m━━━━━━━━━━━━━━━━━━━━\u001b[0m\u001b[37m\u001b[0m \u001b[1m6s\u001b[0m 19ms/step - accuracy: 0.9165 - loss: 0.5028 - val_accuracy: 0.9482 - val_loss: 0.3315\n",
      "Epoch 3/30\n",
      "\u001b[1m322/322\u001b[0m \u001b[32m━━━━━━━━━━━━━━━━━━━━\u001b[0m\u001b[37m\u001b[0m \u001b[1m6s\u001b[0m 19ms/step - accuracy: 0.9209 - loss: 0.6825 - val_accuracy: 0.9599 - val_loss: 0.2771\n",
      "Epoch 4/30\n",
      "\u001b[1m322/322\u001b[0m \u001b[32m━━━━━━━━━━━━━━━━━━━━\u001b[0m\u001b[37m\u001b[0m \u001b[1m6s\u001b[0m 18ms/step - accuracy: 0.9440 - loss: 0.3991 - val_accuracy: 0.9852 - val_loss: 0.0868\n",
      "Epoch 5/30\n",
      "\u001b[1m322/322\u001b[0m \u001b[32m━━━━━━━━━━━━━━━━━━━━\u001b[0m\u001b[37m\u001b[0m \u001b[1m6s\u001b[0m 19ms/step - accuracy: 0.9543 - loss: 0.2504 - val_accuracy: 0.9848 - val_loss: 0.0954\n",
      "Epoch 6/30\n",
      "\u001b[1m322/322\u001b[0m \u001b[32m━━━━━━━━━━━━━━━━━━━━\u001b[0m\u001b[37m\u001b[0m \u001b[1m6s\u001b[0m 19ms/step - accuracy: 0.9657 - loss: 0.1613 - val_accuracy: 0.9864 - val_loss: 0.0736\n",
      "Epoch 7/30\n",
      "\u001b[1m322/322\u001b[0m \u001b[32m━━━━━━━━━━━━━━━━━━━━\u001b[0m\u001b[37m\u001b[0m \u001b[1m6s\u001b[0m 19ms/step - accuracy: 0.9584 - loss: 0.1798 - val_accuracy: 0.9833 - val_loss: 0.0827\n",
      "Epoch 8/30\n",
      "\u001b[1m322/322\u001b[0m \u001b[32m━━━━━━━━━━━━━━━━━━━━\u001b[0m\u001b[37m\u001b[0m \u001b[1m6s\u001b[0m 19ms/step - accuracy: 0.9614 - loss: 0.1603 - val_accuracy: 0.9790 - val_loss: 0.1163\n",
      "Epoch 9/30\n",
      "\u001b[1m322/322\u001b[0m \u001b[32m━━━━━━━━━━━━━━━━━━━━\u001b[0m\u001b[37m\u001b[0m \u001b[1m6s\u001b[0m 19ms/step - accuracy: 0.9579 - loss: 0.1617 - val_accuracy: 0.9794 - val_loss: 0.0952\n",
      "Epoch 10/30\n",
      "\u001b[1m322/322\u001b[0m \u001b[32m━━━━━━━━━━━━━━━━━━━━\u001b[0m\u001b[37m\u001b[0m \u001b[1m6s\u001b[0m 18ms/step - accuracy: 0.9547 - loss: 0.1873 - val_accuracy: 0.9724 - val_loss: 0.1044\n",
      "Epoch 11/30\n",
      "\u001b[1m322/322\u001b[0m \u001b[32m━━━━━━━━━━━━━━━━━━━━\u001b[0m\u001b[37m\u001b[0m \u001b[1m6s\u001b[0m 18ms/step - accuracy: 0.9611 - loss: 0.1535 - val_accuracy: 0.9759 - val_loss: 0.1067\n",
      "Epoch 12/30\n",
      "\u001b[1m322/322\u001b[0m \u001b[32m━━━━━━━━━━━━━━━━━━━━\u001b[0m\u001b[37m\u001b[0m \u001b[1m6s\u001b[0m 19ms/step - accuracy: 0.9568 - loss: 0.1630 - val_accuracy: 0.9801 - val_loss: 0.0918\n",
      "Epoch 13/30\n",
      "\u001b[1m322/322\u001b[0m \u001b[32m━━━━━━━━━━━━━━━━━━━━\u001b[0m\u001b[37m\u001b[0m \u001b[1m6s\u001b[0m 18ms/step - accuracy: 0.9603 - loss: 0.1404 - val_accuracy: 0.9805 - val_loss: 0.0925\n",
      "Epoch 14/30\n",
      "\u001b[1m322/322\u001b[0m \u001b[32m━━━━━━━━━━━━━━━━━━━━\u001b[0m\u001b[37m\u001b[0m \u001b[1m6s\u001b[0m 18ms/step - accuracy: 0.9570 - loss: 0.1553 - val_accuracy: 0.9860 - val_loss: 0.0661\n",
      "Epoch 15/30\n",
      "\u001b[1m322/322\u001b[0m \u001b[32m━━━━━━━━━━━━━━━━━━━━\u001b[0m\u001b[37m\u001b[0m \u001b[1m6s\u001b[0m 18ms/step - accuracy: 0.9628 - loss: 0.1186 - val_accuracy: 0.9708 - val_loss: 0.1085\n",
      "Epoch 16/30\n",
      "\u001b[1m322/322\u001b[0m \u001b[32m━━━━━━━━━━━━━━━━━━━━\u001b[0m\u001b[37m\u001b[0m \u001b[1m6s\u001b[0m 19ms/step - accuracy: 0.9614 - loss: 0.1387 - val_accuracy: 0.9852 - val_loss: 0.0686\n",
      "Epoch 17/30\n",
      "\u001b[1m322/322\u001b[0m \u001b[32m━━━━━━━━━━━━━━━━━━━━\u001b[0m\u001b[37m\u001b[0m \u001b[1m6s\u001b[0m 17ms/step - accuracy: 0.9601 - loss: 0.1384 - val_accuracy: 0.9805 - val_loss: 0.0791\n",
      "Epoch 18/30\n",
      "\u001b[1m322/322\u001b[0m \u001b[32m━━━━━━━━━━━━━━━━━━━━\u001b[0m\u001b[37m\u001b[0m \u001b[1m6s\u001b[0m 18ms/step - accuracy: 0.9573 - loss: 0.1502 - val_accuracy: 0.9630 - val_loss: 0.1637\n",
      "Epoch 19/30\n",
      "\u001b[1m322/322\u001b[0m \u001b[32m━━━━━━━━━━━━━━━━━━━━\u001b[0m\u001b[37m\u001b[0m \u001b[1m7s\u001b[0m 21ms/step - accuracy: 0.9532 - loss: 0.1938 - val_accuracy: 0.9825 - val_loss: 0.0804\n",
      "Epoch 20/30\n",
      "\u001b[1m322/322\u001b[0m \u001b[32m━━━━━━━━━━━━━━━━━━━━\u001b[0m\u001b[37m\u001b[0m \u001b[1m6s\u001b[0m 19ms/step - accuracy: 0.9563 - loss: 0.1666 - val_accuracy: 0.9794 - val_loss: 0.0884\n",
      "Epoch 21/30\n",
      "\u001b[1m322/322\u001b[0m \u001b[32m━━━━━━━━━━━━━━━━━━━━\u001b[0m\u001b[37m\u001b[0m \u001b[1m6s\u001b[0m 19ms/step - accuracy: 0.9549 - loss: 0.1707 - val_accuracy: 0.9825 - val_loss: 0.0956\n",
      "Epoch 22/30\n",
      "\u001b[1m322/322\u001b[0m \u001b[32m━━━━━━━━━━━━━━━━━━━━\u001b[0m\u001b[37m\u001b[0m \u001b[1m6s\u001b[0m 19ms/step - accuracy: 0.9565 - loss: 0.1749 - val_accuracy: 0.9833 - val_loss: 0.0806\n",
      "Epoch 23/30\n",
      "\u001b[1m322/322\u001b[0m \u001b[32m━━━━━━━━━━━━━━━━━━━━\u001b[0m\u001b[37m\u001b[0m \u001b[1m6s\u001b[0m 18ms/step - accuracy: 0.9528 - loss: 0.2215 - val_accuracy: 0.9763 - val_loss: 0.1089\n",
      "Epoch 24/30\n",
      "\u001b[1m322/322\u001b[0m \u001b[32m━━━━━━━━━━━━━━━━━━━━\u001b[0m\u001b[37m\u001b[0m \u001b[1m6s\u001b[0m 18ms/step - accuracy: 0.9515 - loss: 0.2561 - val_accuracy: 0.9821 - val_loss: 0.1160\n",
      "Epoch 25/30\n",
      "\u001b[1m322/322\u001b[0m \u001b[32m━━━━━━━━━━━━━━━━━━━━\u001b[0m\u001b[37m\u001b[0m \u001b[1m6s\u001b[0m 20ms/step - accuracy: 0.9454 - loss: 0.2963 - val_accuracy: 0.9794 - val_loss: 0.1245\n",
      "Epoch 26/30\n",
      "\u001b[1m322/322\u001b[0m \u001b[32m━━━━━━━━━━━━━━━━━━━━\u001b[0m\u001b[37m\u001b[0m \u001b[1m6s\u001b[0m 18ms/step - accuracy: 0.9422 - loss: 0.3726 - val_accuracy: 0.9821 - val_loss: 0.1158\n",
      "Epoch 27/30\n",
      "\u001b[1m322/322\u001b[0m \u001b[32m━━━━━━━━━━━━━━━━━━━━\u001b[0m\u001b[37m\u001b[0m \u001b[1m6s\u001b[0m 18ms/step - accuracy: 0.9571 - loss: 0.2255 - val_accuracy: 0.9837 - val_loss: 0.1006\n",
      "Epoch 28/30\n",
      "\u001b[1m322/322\u001b[0m \u001b[32m━━━━━━━━━━━━━━━━━━━━\u001b[0m\u001b[37m\u001b[0m \u001b[1m6s\u001b[0m 18ms/step - accuracy: 0.9394 - loss: 0.4701 - val_accuracy: 0.9801 - val_loss: 0.1314\n",
      "Epoch 29/30\n",
      "\u001b[1m322/322\u001b[0m \u001b[32m━━━━━━━━━━━━━━━━━━━━\u001b[0m\u001b[37m\u001b[0m \u001b[1m6s\u001b[0m 18ms/step - accuracy: 0.9550 - loss: 0.2705 - val_accuracy: 0.9825 - val_loss: 0.1321\n",
      "Epoch 30/30\n",
      "\u001b[1m322/322\u001b[0m \u001b[32m━━━━━━━━━━━━━━━━━━━━\u001b[0m\u001b[37m\u001b[0m \u001b[1m6s\u001b[0m 18ms/step - accuracy: 0.9459 - loss: 0.4150 - val_accuracy: 0.9833 - val_loss: 0.1551\n"
     ]
    }
   ],
   "source": [
    "history = model.fit(X_train, y_train,\n",
    "                    validation_data=(X_test, y_test),\n",
    "                    epochs=30,\n",
    "                    batch_size=32)"
   ]
  },
  {
   "cell_type": "code",
   "execution_count": 47,
   "id": "f83eab03",
   "metadata": {},
   "outputs": [
    {
     "name": "stdout",
     "output_type": "stream",
     "text": [
      "\u001b[1m81/81\u001b[0m \u001b[32m━━━━━━━━━━━━━━━━━━━━\u001b[0m\u001b[37m\u001b[0m \u001b[1m1s\u001b[0m 10ms/step - accuracy: 0.9849 - loss: 0.1640\n",
      "\n",
      "Test Accuracy: 98.33%\n"
     ]
    }
   ],
   "source": [
    "# Evaluate on test set\n",
    "loss, accuracy = model.evaluate(X_test, y_test)\n",
    "print(f\"\\nTest Accuracy: {accuracy * 100:.2f}%\")"
   ]
  },
  {
   "cell_type": "code",
   "execution_count": 48,
   "id": "822678ac",
   "metadata": {},
   "outputs": [
    {
     "name": "stdout",
     "output_type": "stream",
     "text": [
      "Model and scaler saved.\n"
     ]
    }
   ],
   "source": [
    "# Save the model and scaler\n",
    "model.save('thumbs_mlp_model.keras')\n",
    "import joblib\n",
    "joblib.dump(scaler, 'scaler.save')\n",
    "\n",
    "print(\"Model and scaler saved.\")"
   ]
  },
  {
   "cell_type": "code",
   "execution_count": 49,
   "id": "1bc34bbf",
   "metadata": {},
   "outputs": [
    {
     "data": {
      "image/png": "[encoded data removed]",
      "text/plain": [
       "<Figure size 640x480 with 1 Axes>"
      ]
     },
     "metadata": {},
     "output_type": "display_data"
    },
    {
     "data": {
      "image/png": "[encoded data removed]",
      "text/plain": [
       "<Figure size 640x480 with 1 Axes>"
      ]
     },
     "metadata": {},
     "output_type": "display_data"
    }
   ],
   "source": [
    "import matplotlib.pyplot as plt\n",
    "\n",
    "plt.plot(history.history['accuracy'], label='train accuracy')\n",
    "plt.plot(history.history['val_accuracy'], label='val accuracy')\n",
    "plt.legend()\n",
    "plt.show()\n",
    "\n",
    "# Plot loss\n",
    "plt.plot(history.history['loss'], label='train loss')\n",
    "plt.plot(history.history['val_loss'], label='val loss')\n",
    "plt.legend()\n",
    "plt.show()"
   ]
  },
  {
   "cell_type": "code",
   "execution_count": null,
   "id": "201bd4a7",
   "metadata": {},
   "outputs": [],
   "source": []
  }
 ],
 "metadata": {
  "kernelspec": {
   "display_name": "tf_arm",
   "language": "python",
   "name": "python3"
  },
  "language_info": {
   "codemirror_mode": {
    "name": "ipython",
    "version": 3
   },
   "file_extension": ".py",
   "mimetype": "text/x-python",
   "name": "python",
   "nbconvert_exporter": "python",
   "pygments_lexer": "ipython3",
   "version": "3.9.23"
  }
 },
 "nbformat": 4,
 "nbformat_minor": 5
}
